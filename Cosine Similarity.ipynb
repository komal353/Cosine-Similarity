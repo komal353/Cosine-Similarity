{
 "cells": [
  {
   "cell_type": "code",
   "execution_count": 1,
   "metadata": {},
   "outputs": [],
   "source": [
    "#!pip install spacy"
   ]
  },
  {
   "cell_type": "code",
   "execution_count": 2,
   "metadata": {},
   "outputs": [],
   "source": [
    "#!python -m spacy download en"
   ]
  },
  {
   "cell_type": "code",
   "execution_count": 24,
   "metadata": {},
   "outputs": [],
   "source": [
    "nlp = spacy.load('en_core_web_sm') "
   ]
  },
  {
   "cell_type": "code",
   "execution_count": 25,
   "metadata": {},
   "outputs": [],
   "source": [
    "## import libraries\n",
    "import numpy as np\n",
    "from numpy import linalg as LA\n",
    "from scipy import spatial\n",
    "import spacy\n",
    "from sklearn.metrics.pairwise import cosine_similarity\n",
    "from sklearn.metrics.pairwise import cosine_distances"
   ]
  },
  {
   "cell_type": "markdown",
   "metadata": {},
   "source": [
    "### Cosine Similarity\n",
    "We are going to take three words 'King','Man','Woman' and calculate king-man+woman and check the cosine similarities and cosine distance between all of them.\n",
    "Also we need to convert these words to vectors before checking the similarities and distances."
   ]
  },
  {
   "cell_type": "code",
   "execution_count": 26,
   "metadata": {},
   "outputs": [
    {
     "data": {
      "text/plain": [
       "(1, 96)"
      ]
     },
     "execution_count": 26,
     "metadata": {},
     "output_type": "execute_result"
    }
   ],
   "source": [
    "## create the vector for king\n",
    "king=nlp('king').vector.reshape(1,-1)\n",
    "king.shape"
   ]
  },
  {
   "cell_type": "code",
   "execution_count": 27,
   "metadata": {},
   "outputs": [
    {
     "data": {
      "text/plain": [
       "(1, 96)"
      ]
     },
     "execution_count": 27,
     "metadata": {},
     "output_type": "execute_result"
    }
   ],
   "source": [
    "## create the vector for king\n",
    "man=nlp('man').vector.reshape(1,-1)\n",
    "man.shape"
   ]
  },
  {
   "cell_type": "code",
   "execution_count": 28,
   "metadata": {},
   "outputs": [
    {
     "data": {
      "text/plain": [
       "(1, 96)"
      ]
     },
     "execution_count": 28,
     "metadata": {},
     "output_type": "execute_result"
    }
   ],
   "source": [
    "## create the vector for king\n",
    "woman=nlp('woman').vector.reshape(1,-1)\n",
    "woman.shape"
   ]
  },
  {
   "cell_type": "code",
   "execution_count": 29,
   "metadata": {},
   "outputs": [
    {
     "data": {
      "text/plain": [
       "(1, 96)"
      ]
     },
     "execution_count": 29,
     "metadata": {},
     "output_type": "execute_result"
    }
   ],
   "source": [
    "## let's check the final vector\n",
    "new_vec=king-man+woman.reshape(1,-1)\n",
    "new_vec.shape"
   ]
  },
  {
   "cell_type": "code",
   "execution_count": 30,
   "metadata": {},
   "outputs": [],
   "source": [
    "## create a function to calculate cosine_similarity between two words\n",
    "cos_similarity = lambda word1,word2:cosine_similarity(word1,word2)"
   ]
  },
  {
   "cell_type": "code",
   "execution_count": 31,
   "metadata": {},
   "outputs": [
    {
     "data": {
      "text/plain": [
       "array([[0.7189876]], dtype=float32)"
      ]
     },
     "execution_count": 31,
     "metadata": {},
     "output_type": "execute_result"
    }
   ],
   "source": [
    "## Check cosine_similarity between king and man\n",
    "cos_similarity(king,man)"
   ]
  },
  {
   "cell_type": "code",
   "execution_count": 32,
   "metadata": {},
   "outputs": [
    {
     "name": "stdout",
     "output_type": "stream",
     "text": [
      "[[0.7189876]]\n"
     ]
    }
   ],
   "source": [
    "## Directly also we can check similarity between two words\n",
    "print(cosine_similarity(king,man))"
   ]
  },
  {
   "cell_type": "code",
   "execution_count": 34,
   "metadata": {},
   "outputs": [
    {
     "name": "stdout",
     "output_type": "stream",
     "text": [
      "[[0.714959]]\n"
     ]
    },
    {
     "data": {
      "text/plain": [
       "array([[0.714959]], dtype=float32)"
      ]
     },
     "execution_count": 34,
     "metadata": {},
     "output_type": "execute_result"
    }
   ],
   "source": [
    "## cosine_similarity between king and woman\n",
    "print(cosine_similarity(king,woman))\n",
    "cos_similarity(king,woman)"
   ]
  },
  {
   "cell_type": "code",
   "execution_count": 41,
   "metadata": {},
   "outputs": [
    {
     "name": "stdout",
     "output_type": "stream",
     "text": [
      "[[0.8626202]]\n"
     ]
    },
    {
     "data": {
      "text/plain": [
       "array([[0.8626202]], dtype=float32)"
      ]
     },
     "execution_count": 41,
     "metadata": {},
     "output_type": "execute_result"
    }
   ],
   "source": [
    "## cosine_similarity between woman and man\n",
    "print(cosine_similarity(woman,man))\n",
    "cos_similarity(woman,man)"
   ]
  },
  {
   "cell_type": "code",
   "execution_count": 42,
   "metadata": {},
   "outputs": [
    {
     "name": "stdout",
     "output_type": "stream",
     "text": [
      "[[0.7483405]]\n"
     ]
    },
    {
     "data": {
      "text/plain": [
       "array([[0.7483405]], dtype=float32)"
      ]
     },
     "execution_count": 42,
     "metadata": {},
     "output_type": "execute_result"
    }
   ],
   "source": [
    "## cosine_similarity between woman and new_vec\n",
    "print(cosine_similarity(new_vec,woman))\n",
    "cos_similarity(new_vec,woman)"
   ]
  },
  {
   "cell_type": "code",
   "execution_count": 43,
   "metadata": {},
   "outputs": [
    {
     "name": "stdout",
     "output_type": "stream",
     "text": [
      "[[0.49752417]]\n"
     ]
    },
    {
     "data": {
      "text/plain": [
       "array([[0.49752417]], dtype=float32)"
      ]
     },
     "execution_count": 43,
     "metadata": {},
     "output_type": "execute_result"
    }
   ],
   "source": [
    "#cosine_similarity between man and new_vec\n",
    "print(cosine_similarity(new_vec,man))\n",
    "cos_similarity(new_vec,man)"
   ]
  },
  {
   "cell_type": "code",
   "execution_count": 44,
   "metadata": {},
   "outputs": [
    {
     "name": "stdout",
     "output_type": "stream",
     "text": [
      "[[0.8743261]]\n"
     ]
    },
    {
     "data": {
      "text/plain": [
       "array([[0.8743261]], dtype=float32)"
      ]
     },
     "execution_count": 44,
     "metadata": {},
     "output_type": "execute_result"
    }
   ],
   "source": [
    "##cosine_similarity between king and new_vec\n",
    "print(cosine_similarity(new_vec,king))\n",
    "cos_similarity(new_vec,king)"
   ]
  },
  {
   "cell_type": "code",
   "execution_count": 45,
   "metadata": {},
   "outputs": [
    {
     "name": "stdout",
     "output_type": "stream",
     "text": [
      "[[0.8660254]]\n"
     ]
    }
   ],
   "source": [
    "## check similarity between two vectors\n",
    "v1=np.array([[1,1,0,1,1]])\n",
    "v2=np.array([[0,1,0,1,1]])\n",
    "print(cosine_similarity(v1,v2))"
   ]
  },
  {
   "cell_type": "markdown",
   "metadata": {},
   "source": [
    "### Cosine Distance\n",
    "* Manually: Cosine Distance = 1- cosine similarity\n",
    "* This can also be calculated directly using cosine_distances library"
   ]
  },
  {
   "cell_type": "code",
   "execution_count": 46,
   "metadata": {},
   "outputs": [
    {
     "data": {
      "text/plain": [
       "array([[0.1339746]])"
      ]
     },
     "execution_count": 46,
     "metadata": {},
     "output_type": "execute_result"
    }
   ],
   "source": [
    "## calculate cosine distance manually\n",
    "cos_distance=1-cosine_similarity(v1,v2)\n",
    "cos_distance"
   ]
  },
  {
   "cell_type": "code",
   "execution_count": 47,
   "metadata": {},
   "outputs": [
    {
     "name": "stdout",
     "output_type": "stream",
     "text": [
      "[[0.1339746]]\n"
     ]
    }
   ],
   "source": [
    "## calculate cosine distance directly using the cosine_distances library\n",
    "from sklearn.metrics.pairwise import cosine_distances\n",
    "print(cosine_distances(v1,v2))"
   ]
  },
  {
   "cell_type": "code",
   "execution_count": 48,
   "metadata": {},
   "outputs": [
    {
     "name": "stdout",
     "output_type": "stream",
     "text": [
      "[[0.13737983]]\n"
     ]
    }
   ],
   "source": [
    "## cosine distance between man and woman\n",
    "print(cosine_distances(man,woman))"
   ]
  },
  {
   "cell_type": "code",
   "execution_count": 49,
   "metadata": {},
   "outputs": [
    {
     "name": "stdout",
     "output_type": "stream",
     "text": [
      "[[0.28101242]]\n"
     ]
    }
   ],
   "source": [
    "## cosine distance between man and king\n",
    "print(cosine_distances(man,king))"
   ]
  },
  {
   "cell_type": "code",
   "execution_count": 50,
   "metadata": {},
   "outputs": [
    {
     "name": "stdout",
     "output_type": "stream",
     "text": [
      "[[0.28504097]]\n"
     ]
    }
   ],
   "source": [
    "## cosine distance between woman and king\n",
    "print(cosine_distances(woman,king))"
   ]
  },
  {
   "cell_type": "markdown",
   "metadata": {},
   "source": [
    "### Dot Product and Cross Product"
   ]
  },
  {
   "cell_type": "code",
   "execution_count": 51,
   "metadata": {},
   "outputs": [
    {
     "name": "stdout",
     "output_type": "stream",
     "text": [
      "[[5 4]\n",
      " [9 6]]\n"
     ]
    }
   ],
   "source": [
    "# Taking two 2D array\n",
    "# For 2-D arrays it is the matrix product\n",
    "a = [[2, 1], [0, 3]]\n",
    "b = [[1, 1], [3, 2]]\n",
    " \n",
    "# Calculating dot product using dot()\n",
    "print(np.dot(a, b))"
   ]
  },
  {
   "cell_type": "code",
   "execution_count": 52,
   "metadata": {},
   "outputs": [
    {
     "name": "stdout",
     "output_type": "stream",
     "text": [
      "[ 1 -9]\n"
     ]
    }
   ],
   "source": [
    "# Calculating cross product using dot()\n",
    "print(np.cross(a,b))"
   ]
  },
  {
   "cell_type": "markdown",
   "metadata": {},
   "source": [
    "### Eigen values and Eigen vectors"
   ]
  },
  {
   "cell_type": "code",
   "execution_count": 53,
   "metadata": {},
   "outputs": [
    {
     "name": "stdout",
     "output_type": "stream",
     "text": [
      "[2.5+1.93649167j 2.5-1.93649167j]\n",
      "[[-0.1118034 +0.4330127j -0.1118034 -0.4330127j]\n",
      " [ 0.89442719+0.j         0.89442719-0.j       ]]\n"
     ]
    }
   ],
   "source": [
    "import numpy as np\n",
    "from numpy import linalg as LA\n",
    "input = np.array([[2,-1],[4,3]])\n",
    "w, v = LA.eig(input)\n",
    "print(w)\n",
    "print(v)"
   ]
  }
 ],
 "metadata": {
  "kernelspec": {
   "display_name": "Python 3",
   "language": "python",
   "name": "python3"
  },
  "language_info": {
   "codemirror_mode": {
    "name": "ipython",
    "version": 3
   },
   "file_extension": ".py",
   "mimetype": "text/x-python",
   "name": "python",
   "nbconvert_exporter": "python",
   "pygments_lexer": "ipython3",
   "version": "3.8.5"
  }
 },
 "nbformat": 4,
 "nbformat_minor": 4
}
